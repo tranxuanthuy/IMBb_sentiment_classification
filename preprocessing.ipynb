{
 "cells": [
  {
   "cell_type": "code",
   "execution_count": 38,
   "id": "42fb40f5-59ed-4561-adc5-c7c4671f2163",
   "metadata": {},
   "outputs": [],
   "source": [
    "import pyprind\n",
    "import pandas as pd\n",
    "import os\n",
    "import sys\n",
    "import numpy as np\n",
    "basepath = 'aclImdb'"
   ]
  },
  {
   "cell_type": "code",
   "execution_count": 39,
   "id": "fb9c0fc8-a985-4a45-a3a9-0feb40848a31",
   "metadata": {},
   "outputs": [],
   "source": [
    "labels = {'pos':1, 'neg':0}\n",
    "pbar = pyprind.ProgBar(50000, stream=sys.stdout)\n",
    "df = pd.DataFrame()"
   ]
  },
  {
   "cell_type": "code",
   "execution_count": 40,
   "id": "9e8d3324-cec7-4dab-b884-d39585a759f6",
   "metadata": {},
   "outputs": [
    {
     "name": "stdout",
     "output_type": "stream",
     "text": [
      "0% [##############################] 100% | ETA: 00:00:00\n",
      "Total time elapsed: 00:00:46\n"
     ]
    }
   ],
   "source": [
    "for s in ('test', 'train'):\n",
    "    for l in ('pos', 'neg'):\n",
    "        path = os.path.join(basepath, s, l)\n",
    "        files = sorted(os.listdir(path))\n",
    "        for file in files:\n",
    "            with open(os.path.join(path, file), \n",
    "                     'r', encoding='utf-8') as infile:\n",
    "                txt = infile.read()\n",
    "            new_data = pd.DataFrame([[txt, labels[l]]])\n",
    "            df = pd.concat([df, new_data],\n",
    "                          ignore_index=True)\n",
    "            pbar.update()"
   ]
  },
  {
   "cell_type": "code",
   "execution_count": 42,
   "id": "cec3e584-cad8-47bc-9211-ae9fc2aaf594",
   "metadata": {},
   "outputs": [],
   "source": [
    "df.columns = ['review', 'sentiment']"
   ]
  },
  {
   "cell_type": "code",
   "execution_count": 55,
   "id": "bb68616f-b5c3-4b39-b50b-e0a6f15632b6",
   "metadata": {},
   "outputs": [
    {
     "data": {
      "text/plain": [
       "sentiment\n",
       "1    25000\n",
       "0    25000\n",
       "Name: count, dtype: int64"
      ]
     },
     "execution_count": 55,
     "metadata": {},
     "output_type": "execute_result"
    }
   ],
   "source": [
    "df['sentiment'].value_counts()"
   ]
  },
  {
   "cell_type": "code",
   "execution_count": 61,
   "id": "dc9d5ae9-25cc-4a06-97ab-22ff57163216",
   "metadata": {},
   "outputs": [],
   "source": [
    "df = df.reindex(np.random.permutation(df.index))"
   ]
  },
  {
   "cell_type": "code",
   "execution_count": 63,
   "id": "6644844a-29f7-4ec1-a0e3-6501beacfb7e",
   "metadata": {},
   "outputs": [],
   "source": [
    "df.to_csv('movie_data.csv',\n",
    "         index=False,\n",
    "         encoding='utf-8')"
   ]
  }
 ],
 "metadata": {
  "kernelspec": {
   "display_name": "Python 3 (ipykernel)",
   "language": "python",
   "name": "python3"
  },
  "language_info": {
   "codemirror_mode": {
    "name": "ipython",
    "version": 3
   },
   "file_extension": ".py",
   "mimetype": "text/x-python",
   "name": "python",
   "nbconvert_exporter": "python",
   "pygments_lexer": "ipython3",
   "version": "3.10.12"
  }
 },
 "nbformat": 4,
 "nbformat_minor": 5
}
